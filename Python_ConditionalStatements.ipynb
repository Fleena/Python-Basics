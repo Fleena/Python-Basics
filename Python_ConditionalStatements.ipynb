{
 "cells": [
  {
   "cell_type": "code",
   "execution_count": 1,
   "metadata": {},
   "outputs": [
    {
     "name": "stdout",
     "output_type": "stream",
     "text": [
      "b is greatest\n"
     ]
    }
   ],
   "source": [
    "# 1. Take two integer values from the user and print greatest among them.\n",
    "\n",
    "a = 30\n",
    "b = 40\n",
    "\n",
    "if a > b:\n",
    "    print(\"a is greatest\")\n",
    "else:\n",
    "    print(\"b is greatest\")"
   ]
  },
  {
   "cell_type": "code",
   "execution_count": 2,
   "metadata": {},
   "outputs": [
    {
     "name": "stdout",
     "output_type": "stream",
     "text": [
      "Enter the value a: 45\n",
      "a is odd number\n"
     ]
    }
   ],
   "source": [
    "# 2. Write a program that reads an integer from the user. Then your program should display a message indicating whether the integer is even or odd.\n",
    "\n",
    "a = int(input(\"Enter the value a: \",))\n",
    "\n",
    "if a % 2 == 0:\n",
    "    print(\"a is even number\")\n",
    "else:\n",
    "    print(\"a is odd number\")\n"
   ]
  },
  {
   "cell_type": "code",
   "execution_count": 16,
   "metadata": {},
   "outputs": [
    {
     "name": "stdout",
     "output_type": "stream",
     "text": [
      "Enter the alphabet: h\n",
      "This alphabet is a Consonant\n"
     ]
    }
   ],
   "source": [
    "# 3. Create a program that reads a letter of the alphabet from the user. If the user enters a, e, i, o or u then your program should display a message indicating that the entered letter isa vowel. If the user enters y then your program shoulddisplay a message indicating that sometimes y is a vowel,and sometimes y is a consonant. Otherwise your program should display a message indicating that the letter is aconsonant.\n",
    "\n",
    "alphabet = input(\"Enter the alphabet: \", )\n",
    "alphb = ['a','e','i','o','u']\n",
    "\n",
    "if alphabet in alphb :\n",
    "    print(\"This alphabet is a Vowel\")\n",
    "elif alphabet == 'y':\n",
    "    print(\"Sometimes y is a Vowel,and sometimes y is a Consonant\")\n",
    "else:\n",
    "    print(\"This alphabet is a Consonant\")"
   ]
  },
  {
   "cell_type": "code",
   "execution_count": 2,
   "metadata": {},
   "outputs": [
    {
     "name": "stdout",
     "output_type": "stream",
     "text": [
      "Enter the value t1: 2\n",
      "Enter the value t2: 6\n",
      "Enter the value t3: 8\n",
      "This is a Scalene\n"
     ]
    }
   ],
   "source": [
    "# 4. A triangle can be classified based on the lengths of its sides as equilateral, isosceles or scalene. All three sides of an equilateral triangle have the same length. An isoscelestriangle has two sides that are the same length, and a thirdside that is a different length.\n",
    "# If all of the sides have different lengths then the triangle is scalene. Write a program that reads the lengths of the three sides of a triangle from the user. Then display a message that states the triangle’s type.\n",
    "\n",
    "t1 = int(input(\"Enter the value t1: \",))\n",
    "t2 = int(input(\"Enter the value t2: \",))\n",
    "t3 = int(input(\"Enter the value t3: \",))\n",
    "\n",
    "if t1==t2==t3:\n",
    "    print(\"This is a Equilateral\")\n",
    "elif t1==t2 or t1==t3:\n",
    "    print(\"This is a Isosceles\")\n",
    "else:\n",
    "    print(\"This is a Scalene\")"
   ]
  },
  {
   "cell_type": "code",
   "execution_count": 30,
   "metadata": {},
   "outputs": [
    {
     "name": "stdout",
     "output_type": "stream",
     "text": [
      "Enter the number of sides: 11\n",
      "Number of sides are not in the range\n"
     ]
    }
   ],
   "source": [
    "# 5. Write a program that determines the name of a shape from its number of sides. Read the number of sides from the user and then report the appropriate name as part of a meaningful message. Your program should support shapes\n",
    "# with anywhere from 3 up to (and including) 10 sides. If a number of sides outside of this range is entered then your program should display an appropriate error message.\n",
    "\n",
    "sides = int(input(\"Enter the number of sides: \",))\n",
    "\n",
    "if sides == 3:\n",
    "    print(\"Its a triangle\")\n",
    "elif sides == 4:\n",
    "    print(\"Its a square\")\n",
    "elif sides == 5:\n",
    "    print(\"Its a pentagon\")\n",
    "elif sides == 6:\n",
    "    print(\"Its a hexagon\")\n",
    "elif sides == 7:\n",
    "    print(\"Its a heptagon\")\n",
    "elif sides == 8:\n",
    "    print(\"Its a octogon\")\n",
    "elif sides == 9:\n",
    "    print(\"Its a nanogan\")\n",
    "elif sides == 10:\n",
    "    print(\"Its a decagon\")\n",
    "else:\n",
    "    print(\"Number of sides are not in the range\")"
   ]
  },
  {
   "cell_type": "code",
   "execution_count": 37,
   "metadata": {},
   "outputs": [
    {
     "name": "stdout",
     "output_type": "stream",
     "text": [
      "Enter the number of units purchaced: 11\n",
      "Total cost:  990\n"
     ]
    }
   ],
   "source": [
    "# 6. A shop will give a discount of 10% if the cost of the purchased quantity is more than 1000. Ask the user for quantity, suppose, one unit will cost 100. Judge and print total cost for user.\n",
    "\n",
    "units_purchased = int(input(\"Enter the number of units purchaced: \", ))\n",
    "discount = 0.10\n",
    "per_unitcost = 100\n",
    "\n",
    "if units_purchased * per_unitcost > 1000:    \n",
    "    quantity = (units_purchased*per_unitcost)\n",
    "    total_cost = quantity - (quantity*discount)\n",
    "    print(\"Total cost: \",round(total_cost))\n",
    "    \n",
    "else:\n",
    "    print(\"Total cost: \", units_purchased*per_unitcost)"
   ]
  },
  {
   "cell_type": "code",
   "execution_count": 65,
   "metadata": {},
   "outputs": [
    {
     "name": "stdout",
     "output_type": "stream",
     "text": [
      "Enter the value age1: 6\n",
      "Enter the value age2: 8\n",
      "Enter the value age3: 9\n",
      "oldest is 9, youngest is 6\n"
     ]
    }
   ],
   "source": [
    "# 7. Take input of age of 3 people by user and determine oldest and youngest among them.\n",
    "\n",
    "age1 = int(input(\"Enter the value age1: \",))\n",
    "age2 = int(input(\"Enter the value age2: \",))\n",
    "age3 = int(input(\"Enter the value age3: \",))\n",
    "\n",
    "if age1<age2<age3:\n",
    "    print(\"oldest is {}, youngest is {}\".format(age3,age1))\n",
    "elif age1<age3<age2:\n",
    "    print(\"oldest is {}, youngest is {}\".format(age2,age1))\n",
    "elif age2<age1<age3:\n",
    "    print(\"oldest is {}, youngest is {}\".format(age3,age2))\n",
    "elif age3<age2<age1:\n",
    "    print(\"oldest is {}, youngest is {}\".format(age1,age3))\n",
    "elif age3<age1<age2:\n",
    "    print(\"oldest is {}, youngest is {}\".format(age2,age3))\n",
    "else:\n",
    "    print(\"All 3 are of same age\")"
   ]
  },
  {
   "cell_type": "code",
   "execution_count": 39,
   "metadata": {},
   "outputs": [
    {
     "name": "stdout",
     "output_type": "stream",
     "text": [
      "Enter the Salary: 2000\n",
      "Enter the number of years of experience: 3\n",
      "Not eligible for Bonus\n"
     ]
    }
   ],
   "source": [
    "# 8. A company decided to give a bonus of 5% to an employee if his/her year of service is more than 5 years. Ask user for their salary and year of service and print the net bonus amount.\n",
    "\n",
    "salary = int(input(\"Enter the Salary: \", ))\n",
    "experience = int(input(\"Enter the number of years of experience: \", ))\n",
    "bonus = 0.05\n",
    "\n",
    "if experience > 5:\n",
    "    net_bonus = salary * 0.05\n",
    "    print(\"Net bonus amount is: \", net_bonus)\n",
    "\n",
    "else:\n",
    "    print(\"Not eligible for Bonus\")"
   ]
  },
  {
   "cell_type": "code",
   "execution_count": 48,
   "metadata": {},
   "outputs": [
    {
     "name": "stdout",
     "output_type": "stream",
     "text": [
      "Enter the year to be checked for leap year: 2000\n",
      "Its a leap year\n"
     ]
    }
   ],
   "source": [
    "# 9. Write a program to check if a year is leap year or not. If a year is divisible by 4 then it is leap year but if the year is a century year like 2000, 1900, 2100 then it must be divisible by 400.\n",
    "\n",
    "year = int(input(\"Enter the year to be checked for leap year: \", ))\n",
    "\n",
    "if year % 400 == 0:\n",
    "    print(\"Its a leap year\")\n",
    "    \n",
    "elif (year % 4 == 0) & (year % 100 != 0):\n",
    "    print(\"Its a leap year\")\n",
    "    \n",
    "else:\n",
    "    print(\"Its not a leap year\")"
   ]
  },
  {
   "cell_type": "code",
   "execution_count": 71,
   "metadata": {},
   "outputs": [
    {
     "name": "stdout",
     "output_type": "stream",
     "text": [
      "Enter the number of dice1: 7\n",
      "Enter the number of dice2: 8\n",
      "please enter the number within range 1-6 \n"
     ]
    }
   ],
   "source": [
    "# 10. Accept d1 and d2 as input. First, check to see that they are in the proper range for dice. If not, print a message. Otherwise, determine the outcome if this is the come out roll. If the sum is 7 or 11, print the winner. If the sum is 2, 3 or 12, print loser. Otherwise print the point.\n",
    "\n",
    "d1 = int(input(\"Enter the number of dice1: \", ))\n",
    "d2 = int(input(\"Enter the number of dice2: \", ))\n",
    "\n",
    "if d1 <= 6 and d2 <= 6:\n",
    "    sum = d1+d2\n",
    "    \n",
    "    if sum == 7 or sum == 11:\n",
    "        print(\"winner\")\n",
    "        \n",
    "    elif sum == 2 or sum == 3 or sum == 12:\n",
    "        print(\"Loser\")\n",
    "    \n",
    "    else:\n",
    "        print(\"point: \", sum) \n",
    "        \n",
    "else:\n",
    "    print(\"please enter the number within range 1-6 \")"
   ]
  },
  {
   "cell_type": "code",
   "execution_count": 75,
   "metadata": {},
   "outputs": [
    {
     "name": "stdout",
     "output_type": "stream",
     "text": [
      "Input the name of Month: July\n",
      "No of days: 31 days\n"
     ]
    }
   ],
   "source": [
    "# 11. Write a python program to display the number of days in a month name from the given list of months or month number entered by user.\n",
    "\n",
    "month_name = input(\"Input the name of Month: \")\n",
    "\n",
    "if month_name == \"February\":\n",
    "    print(\"No of days: 28/29 days\")\n",
    "    \n",
    "elif month_name in (\"April\", \"June\", \"September\", \"November\"):\n",
    "    print(\"No of days: 30 days\")\n",
    "    \n",
    "elif month_name in (\"January\", \"March\", \"May\", \"July\", \"August\", \"October\", \"December\"):\n",
    "    print(\"No of days: 31 days\")\n",
    "    \n",
    "else:\n",
    "    print(\"please enter correct month name\") "
   ]
  },
  {
   "cell_type": "code",
   "execution_count": 77,
   "metadata": {},
   "outputs": [
    {
     "name": "stdout",
     "output_type": "stream",
     "text": [
      "Input a year: 1889\n",
      "Input a month: 6\n",
      "Input a day: 7\n",
      "The next day of the given date is 1889-6-8.\n"
     ]
    }
   ],
   "source": [
    "# 12. Write a Python program to get next day of a given date.\n",
    "\n",
    "year = int(input(\"Input a year: \"))\n",
    "month = int(input(\"Input a month: \"))\n",
    "day = int(input(\"Input a day: \"))\n",
    "\n",
    "if (year % 400 == 0):\n",
    "    leap_year = True\n",
    "elif (year % 100 == 0):\n",
    "    leap_year = False\n",
    "elif (year % 4 == 0):\n",
    "    leap_year = True\n",
    "else:\n",
    "    leap_year = False\n",
    "\n",
    "if month in (1, 3, 5, 7, 8, 10, 12):\n",
    "    month_length = 31\n",
    "elif month == 2:\n",
    "    if leap_year:\n",
    "        month_length = 29\n",
    "    else:\n",
    "        month_length = 28\n",
    "else:\n",
    "    month_length = 30\n",
    "\n",
    "if day < month_length:\n",
    "    day += 1\n",
    "else:\n",
    "    day = 1\n",
    "    if month == 12:\n",
    "        month = 1\n",
    "        year += 1\n",
    "    else:\n",
    "        month += 1\n",
    "\n",
    "print(\"The next day of the given date is %d-%d-%d.\" % (year, month, day))"
   ]
  },
  {
   "cell_type": "code",
   "execution_count": null,
   "metadata": {},
   "outputs": [],
   "source": []
  }
 ],
 "metadata": {
  "kernelspec": {
   "display_name": "Python 3",
   "language": "python",
   "name": "python3"
  },
  "language_info": {
   "codemirror_mode": {
    "name": "ipython",
    "version": 3
   },
   "file_extension": ".py",
   "mimetype": "text/x-python",
   "name": "python",
   "nbconvert_exporter": "python",
   "pygments_lexer": "ipython3",
   "version": "3.8.5"
  }
 },
 "nbformat": 4,
 "nbformat_minor": 4
}
