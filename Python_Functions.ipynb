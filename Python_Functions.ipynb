{
 "cells": [
  {
   "cell_type": "markdown",
   "metadata": {},
   "source": [
    "# Python\n",
    "## Functions"
   ]
  },
  {
   "cell_type": "code",
   "execution_count": 13,
   "metadata": {},
   "outputs": [
    {
     "name": "stdout",
     "output_type": "stream",
     "text": [
      "No.of upper case letters are:  2\n",
      "No.of lower case letters are:  8\n"
     ]
    }
   ],
   "source": [
    "# 1. Write a Python function that accepts a string and calculates the number of uppercase letters and lowercase letters.\n",
    "\n",
    "def upper_lower(string):\n",
    "    upper = 0\n",
    "    lower = 0\n",
    "\n",
    "    for i in string:\n",
    "    \n",
    "        if (i. isupper()):\n",
    "            upper += 1\n",
    "        elif(i. islower()):\n",
    "            lower += 1\n",
    "        \n",
    "    print(\"No.of upper case letters are: \", upper)\n",
    "    print(\"No.of lower case letters are: \", lower)\n",
    "\n",
    "upper_lower(\"GoodWishes\")"
   ]
  },
  {
   "cell_type": "code",
   "execution_count": 14,
   "metadata": {},
   "outputs": [
    {
     "name": "stdout",
     "output_type": "stream",
     "text": [
      "Squares are: [1, 4, 9, 16, 25, 36, 49, 64, 81, 100, 121, 144, 169, 196, 225, 256, 289, 324, 361, 400, 441, 484, 529, 576, 625, 676, 729, 784, 841, 900]\n"
     ]
    }
   ],
   "source": [
    "# 2. Write a Python function to create and print a list where the values are squares of numbers between 1 and 30 (both included)\n",
    "\n",
    "def squares(min_n , max_n):\n",
    "    squares = []\n",
    "    \n",
    "    for i in range(min_n , max_n+1):\n",
    "        squares.append(i * i)\n",
    "        i += 1\n",
    "    print(\"Squares are:\", squares)   \n",
    "        \n",
    "squares(1,30)        "
   ]
  },
  {
   "cell_type": "code",
   "execution_count": 39,
   "metadata": {},
   "outputs": [
    {
     "data": {
      "text/plain": [
       "5"
      ]
     },
     "execution_count": 39,
     "metadata": {},
     "output_type": "execute_result"
    }
   ],
   "source": [
    "# 3. Create a function that counts the number of elements within a list that are greater than 30.\n",
    "\n",
    "list1 = [20, 10, 56, 89, 31, 13, 41, 51]\n",
    "\n",
    "def elements_grt_30(lst):    \n",
    "    count = 0\n",
    "    \n",
    "    for i in list1:\n",
    "        \n",
    "        if i > 30:\n",
    "            count = count + 1\n",
    "            i += 1\n",
    "    \n",
    "    return count\n",
    "    \n",
    "elements_grt_30(list1)"
   ]
  },
  {
   "cell_type": "code",
   "execution_count": 44,
   "metadata": {},
   "outputs": [
    {
     "data": {
      "text/plain": [
       "[20, 10, 56, 89, 31, 13, 41]"
      ]
     },
     "execution_count": 44,
     "metadata": {},
     "output_type": "execute_result"
    }
   ],
   "source": [
    "# 4. Write a Python function that takes a list and returns a new list with unique elements of the first list.\n",
    "\n",
    "def unique_elements(list2):    \n",
    "    unq_list = []\n",
    "    \n",
    "    for i in list2:\n",
    "        \n",
    "        if i not in unq_list:\n",
    "            unq_list.append(i)\n",
    "    \n",
    "    return unq_list\n",
    "\n",
    "list2 = [20, 10, 10, 56, 56, 89, 31, 13, 13, 41]\n",
    "\n",
    "unique_elements(list2)"
   ]
  },
  {
   "cell_type": "code",
   "execution_count": 45,
   "metadata": {},
   "outputs": [
    {
     "name": "stdout",
     "output_type": "stream",
     "text": [
      "Emp_name: Meena Emp_sal: 9000\n",
      "Emp_name: Manchu Emp_sal: 22000\n"
     ]
    }
   ],
   "source": [
    "# 5. Create a function showEmployee() in such a way that it should accept employee name, and it’s salary and display both, and if the salary is missing in function call it should show it as 9000\n",
    "\n",
    "def showEmployee(name , sal=9000):\n",
    "    print (\"Emp_name:\", name, \"Emp_sal:\", sal)\n",
    "    \n",
    "showEmployee(\"Meena\")\n",
    "showEmployee(\"Manchu\", 22000)\n",
    "    "
   ]
  },
  {
   "cell_type": "code",
   "execution_count": 55,
   "metadata": {},
   "outputs": [
    {
     "name": "stdout",
     "output_type": "stream",
     "text": [
      "Count of even numbers:  7\n",
      "Count of odd numbers:  2\n"
     ]
    }
   ],
   "source": [
    "# 6. Write a Python program to count the even, odd numbers in a given array of integers using Lambda.\n",
    "\n",
    "list3 = [30, 53, 78, 90, 67, 44, 22, 68, 98]\n",
    "\n",
    "even = len(list(filter(lambda i : (i % 2 == 0) , list3)))\n",
    "odd = len(list(filter(lambda i : (i % 2 != 0) , list3)))\n",
    "\n",
    "print(\"Count of even numbers: \", even)\n",
    "print(\"Count of odd numbers: \", odd)"
   ]
  },
  {
   "cell_type": "code",
   "execution_count": 62,
   "metadata": {},
   "outputs": [
    {
     "name": "stdout",
     "output_type": "stream",
     "text": [
      "Added List:  [74, 75, 146, 188]\n"
     ]
    }
   ],
   "source": [
    "# 7. Write a Python program to add two given lists using map and lambda\n",
    "\n",
    "list4 = [30, 53, 78, 90]\n",
    "list5 = [44, 22, 68, 98]\n",
    "\n",
    "\n",
    "added_lst = map(lambda x , y : x + y, list4, list5)\n",
    "\n",
    "print(\"Added List: \", list(added_lst))\n"
   ]
  },
  {
   "cell_type": "code",
   "execution_count": 135,
   "metadata": {},
   "outputs": [
    {
     "name": "stdout",
     "output_type": "stream",
     "text": [
      "-20 -15 -12 -3 4 12 30 50 60\n"
     ]
    }
   ],
   "source": [
    "# 8. Write a Python program to rearrange positive and negative numbers in a given array using Lambda and filter\n",
    "\n",
    "list6 = [50, 12, -20, -12, 60, -3, 4, -15, 30]\n",
    "\n",
    "num1 = list(filter(lambda x : x < 0 , list6))\n",
    "num2 = list(filter(lambda x : x >= 0 , list6))\n",
    "\n",
    "arranged = (num1 + num2)\n",
    "arranged.sort()\n",
    "\n",
    "print(*arranged)"
   ]
  },
  {
   "cell_type": "code",
   "execution_count": 136,
   "metadata": {},
   "outputs": [
    {
     "name": "stdout",
     "output_type": "stream",
     "text": [
      "[12, -12, 60, 4, -15, 30]\n"
     ]
    }
   ],
   "source": [
    "# 9. Write a Python program to filter a list of integers using Lambda.\n",
    "\n",
    "my_list = [50.7, 12, -20.9, -12, 60, -3.0, 4, -15, 30]\n",
    "\n",
    "result = list(filter(lambda x:isinstance(x , int), my_list)) \n",
    "\n",
    "print(result)"
   ]
  },
  {
   "cell_type": "code",
   "execution_count": 141,
   "metadata": {},
   "outputs": [
    {
     "name": "stdout",
     "output_type": "stream",
     "text": [
      "[20, 89, 31, 51]\n"
     ]
    }
   ],
   "source": [
    "# 10. Write a Python program to find the intersection of two given arrays using Lambda and filter.\n",
    "\n",
    "list7 = [20, 10, 56, 89, 31, 13, 41, 51]\n",
    "list8 = [20, 89, 31, 51, 18, 36, 58]\n",
    "\n",
    "intersection = list(filter(lambda x: x in list7, list8))\n",
    "\n",
    "print(intersection)"
   ]
  }
 ],
 "metadata": {
  "kernelspec": {
   "display_name": "Python 3",
   "language": "python",
   "name": "python3"
  },
  "language_info": {
   "codemirror_mode": {
    "name": "ipython",
    "version": 3
   },
   "file_extension": ".py",
   "mimetype": "text/x-python",
   "name": "python",
   "nbconvert_exporter": "python",
   "pygments_lexer": "ipython3",
   "version": "3.8.5"
  }
 },
 "nbformat": 4,
 "nbformat_minor": 4
}
