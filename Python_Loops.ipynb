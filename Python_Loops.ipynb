{
 "cells": [
  {
   "cell_type": "markdown",
   "metadata": {},
   "source": [
    "## Loops"
   ]
  },
  {
   "cell_type": "code",
   "execution_count": 5,
   "metadata": {},
   "outputs": [
    {
     "name": "stdout",
     "output_type": "stream",
     "text": [
      "Natural Numbers are:  1\n",
      "Natural Numbers are:  2\n",
      "Natural Numbers are:  3\n",
      "Natural Numbers are:  4\n",
      "Natural Numbers are:  5\n",
      "Natural Numbers are:  6\n",
      "Natural Numbers are:  7\n",
      "Natural Numbers are:  8\n",
      "Natural Numbers are:  9\n",
      "Natural Numbers are:  10\n"
     ]
    }
   ],
   "source": [
    "# 1. Print First 10 natural numbers using while loop\n",
    "\n",
    "i = 1\n",
    "while i <= 10:\n",
    "    print(\"Natural Numbers are: \",i)\n",
    "    i += 1\n",
    "    "
   ]
  },
  {
   "cell_type": "code",
   "execution_count": 7,
   "metadata": {},
   "outputs": [
    {
     "name": "stdout",
     "output_type": "stream",
     "text": [
      "-10\n",
      "-9\n",
      "-8\n",
      "-7\n",
      "-6\n",
      "-5\n",
      "-4\n",
      "-3\n",
      "-2\n",
      "-1\n"
     ]
    }
   ],
   "source": [
    "# Display -10 to -1 using for loop\n",
    "\n",
    "i = -10\n",
    "while i <= -1:\n",
    "    print(i)\n",
    "    i += 1"
   ]
  },
  {
   "cell_type": "code",
   "execution_count": 16,
   "metadata": {},
   "outputs": [
    {
     "name": "stdout",
     "output_type": "stream",
     "text": [
      "Enter the number: 6\n",
      "720\n"
     ]
    }
   ],
   "source": [
    "# Write a python program to print the factorial of a given number\n",
    "\n",
    "num = int(input(\"Enter the number: \", ))\n",
    "val = 1\n",
    "while num > 0:\n",
    "    val = val * num\n",
    "    num -= 1\n",
    "print(val)\n"
   ]
  },
  {
   "cell_type": "code",
   "execution_count": 26,
   "metadata": {},
   "outputs": [
    {
     "name": "stdout",
     "output_type": "stream",
     "text": [
      " 2   3   5   7   11   13   17   19   23   29   31   37   41   43   47   53   59   61   67   71   73   79   83   89   97  "
     ]
    }
   ],
   "source": [
    "# 4. Write a python program to print all prime numbers between 0 to 100 , and print how many prime numbers are there.\n",
    "\n",
    "min = 2\n",
    "max = 100\n",
    "\n",
    "num = min\n",
    "\n",
    "while(num <= max):\n",
    "    count = 0\n",
    "    i = 2\n",
    "    \n",
    "    while(i <= num//2):\n",
    "        if(num % i == 0):\n",
    "            count = count + 1\n",
    "            break\n",
    "        i = i + 1\n",
    "\n",
    "    if (count == 0 and num != 1):\n",
    "        print(\" %d\" %num, end = '  ')\n",
    "    num = num  + 1\n",
    "\n",
    "\n",
    "    "
   ]
  },
  {
   "cell_type": "code",
   "execution_count": null,
   "metadata": {},
   "outputs": [],
   "source": [
    "# Print the following pattern :\n",
    "\n"
   ]
  }
 ],
 "metadata": {
  "kernelspec": {
   "display_name": "Python 3",
   "language": "python",
   "name": "python3"
  },
  "language_info": {
   "codemirror_mode": {
    "name": "ipython",
    "version": 3
   },
   "file_extension": ".py",
   "mimetype": "text/x-python",
   "name": "python",
   "nbconvert_exporter": "python",
   "pygments_lexer": "ipython3",
   "version": "3.8.5"
  }
 },
 "nbformat": 4,
 "nbformat_minor": 4
}
