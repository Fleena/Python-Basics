{
 "cells": [
  {
   "cell_type": "markdown",
   "metadata": {},
   "source": [
    "# Python \n",
    "# Dictionaries "
   ]
  },
  {
   "cell_type": "code",
   "execution_count": 3,
   "metadata": {},
   "outputs": [
    {
     "name": "stdout",
     "output_type": "stream",
     "text": [
      "Mustang\n",
      "dict_items([('brand', 'Ford'), ('model', 'Mustang'), ('year', 2020), ('colour', 'red')])\n"
     ]
    }
   ],
   "source": [
    "# 1. Print the value of the \"model\" key of the car dictionary.\n",
    "# 2. Change the \"year\" value from 1964 to 2020.\n",
    "# 3. Add the key/value pair \"colour”: \"red\" to the car dictionary\n",
    "\n",
    "car = {'brand':'Ford','model':'Mustang','year':1964}\n",
    "print(car['model'])\n",
    "car['year']=2020\n",
    "car['colour']='red'\n",
    "print(car.items())"
   ]
  },
  {
   "cell_type": "code",
   "execution_count": 4,
   "metadata": {},
   "outputs": [
    {
     "name": "stdout",
     "output_type": "stream",
     "text": [
      "{'gold': 500, 'pouch': ['flint', 'twine', 'gemstone'], 'backpack': ['xylophone', 'dagger', 'bedroll', 'bread', 'loaf'], 'pocket': ['seashell', 'strangeberry', 'lint']}\n"
     ]
    }
   ],
   "source": [
    "# inventory = {'gold' : 500, 'pouch' : ['flint', 'twine', 'gemstone'],'backpack' : ['xylophone’, ‘dagger', 'bedroll’, ‘bread’, ‘loaf']}\n",
    "# 4. Add a key to inventory called 'pocket' and Set the value of'pocket' to be a list consisting of the strings 'seashell', 'strangeberry', and 'lint'.\n",
    "\n",
    "inventory = {'gold' : 500, 'pouch' : ['flint', 'twine', 'gemstone'],'backpack' : ['xylophone', 'dagger', 'bedroll', 'bread', 'loaf']}\n",
    "inventory['pocket']=['seashell', 'strangeberry','lint']\n",
    "print(inventory)"
   ]
  },
  {
   "cell_type": "code",
   "execution_count": 5,
   "metadata": {},
   "outputs": [
    {
     "name": "stdout",
     "output_type": "stream",
     "text": [
      "Sorted Inventory: ['bedroll', 'bread', 'dagger', 'loaf', 'xylophone']\n"
     ]
    }
   ],
   "source": [
    "# 5. Sort the items in the list stored under the 'backpack' key.\n",
    "\n",
    "print('Sorted Inventory:',sorted(inventory['backpack']))"
   ]
  },
  {
   "cell_type": "code",
   "execution_count": 23,
   "metadata": {},
   "outputs": [
    {
     "name": "stdout",
     "output_type": "stream",
     "text": [
      "{'gold': [500], 'pouch': ['flint', 'twine', 'gemstone'], 'backpack': ['xylophone', 'bedroll', 'bread', 'loaf'], 'pocket': ['seashell', 'strangeberry', 'lint']}\n"
     ]
    }
   ],
   "source": [
    "# 6. Remove 'dagger' from the list of items stored under the'backpack' key.\n",
    "\n",
    "inventory['backpack'].remove('dagger')\n",
    "print(inventory)"
   ]
  },
  {
   "cell_type": "code",
   "execution_count": 24,
   "metadata": {},
   "outputs": [
    {
     "name": "stdout",
     "output_type": "stream",
     "text": [
      "{'gold': [500, 50], 'pouch': ['flint', 'twine', 'gemstone'], 'backpack': ['xylophone', 'bedroll', 'bread', 'loaf'], 'pocket': ['seashell', 'strangeberry', 'lint']}\n"
     ]
    }
   ],
   "source": [
    "# 7. Add 50 to the number stored under the 'gold' key.\n",
    "\n",
    "inventory['gold'].append(50)\n",
    "print(inventory)"
   ]
  },
  {
   "cell_type": "code",
   "execution_count": 31,
   "metadata": {},
   "outputs": [
    {
     "name": "stdout",
     "output_type": "stream",
     "text": [
      "{'greenapple': 2, 'banana': 3, 'apple': 4, 'orange': 3, 'pineapple': 1, 'papaya': 1}\n"
     ]
    }
   ],
   "source": [
    "# 8. Write a Python script to concatenate three dictionaries to create a new one. Make dictionaries yourself.\n",
    "\n",
    "fruits1 = {'greenapple':2,'banana':3}\n",
    "fruits2 = {'apple':4,'orange':3}\n",
    "fruits3 = {'pineapple':1,'papaya':1}\n",
    "fruits = {**fruits1,**fruits2,**fruits3}\n",
    "print(fruits)\n"
   ]
  },
  {
   "cell_type": "code",
   "execution_count": 32,
   "metadata": {},
   "outputs": [
    {
     "name": "stdout",
     "output_type": "stream",
     "text": [
      "382\n"
     ]
    }
   ],
   "source": [
    "# 9. Write a Python program to sum all the items in a dictionary.\n",
    "\n",
    "my_sum = {'num1':88,'num2':-52,'num3':346}\n",
    "print(sum(my_sum.values()))"
   ]
  },
  {
   "cell_type": "code",
   "execution_count": 36,
   "metadata": {},
   "outputs": [
    {
     "name": "stdout",
     "output_type": "stream",
     "text": [
      "True\n"
     ]
    }
   ],
   "source": [
    "# 10. Write a Python script to check whether a given key already exists in a dictionary. d = {'foo': 100, 'bar': 200, 'baz': 300}\n",
    "\n",
    "d = {'foo': 100, 'bar': 200, 'baz': 300}\n",
    "print('bar' in d)"
   ]
  },
  {
   "cell_type": "code",
   "execution_count": 38,
   "metadata": {},
   "outputs": [
    {
     "name": "stdout",
     "output_type": "stream",
     "text": [
      "{'foo': 100, 'baz': 300}\n"
     ]
    }
   ],
   "source": [
    "# 11. What method call will delete the entry whose value is 200?\n",
    "\n",
    "d.pop('bar')\n",
    "print(d)"
   ]
  },
  {
   "cell_type": "code",
   "execution_count": 44,
   "metadata": {},
   "outputs": [
    {
     "name": "stdout",
     "output_type": "stream",
     "text": [
      "False\n",
      "True\n"
     ]
    }
   ],
   "source": [
    "# 12. Write a Python program to check multiple keys exists in a dictionary.\n",
    "\n",
    "print(d.keys() > {'foo','baz'})\n",
    "print(d.keys() >= {'foo','baz'})"
   ]
  }
 ],
 "metadata": {
  "kernelspec": {
   "display_name": "Python 3",
   "language": "python",
   "name": "python3"
  },
  "language_info": {
   "codemirror_mode": {
    "name": "ipython",
    "version": 3
   },
   "file_extension": ".py",
   "mimetype": "text/x-python",
   "name": "python",
   "nbconvert_exporter": "python",
   "pygments_lexer": "ipython3",
   "version": "3.8.5"
  }
 },
 "nbformat": 4,
 "nbformat_minor": 4
}
