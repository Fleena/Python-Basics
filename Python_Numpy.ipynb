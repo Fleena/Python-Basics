{
 "cells": [
  {
   "cell_type": "markdown",
   "metadata": {},
   "source": [
    "# Python Numpy"
   ]
  },
  {
   "cell_type": "code",
   "execution_count": 1,
   "metadata": {},
   "outputs": [],
   "source": [
    "import numpy as np"
   ]
  },
  {
   "cell_type": "code",
   "execution_count": 4,
   "metadata": {},
   "outputs": [
    {
     "name": "stdout",
     "output_type": "stream",
     "text": [
      "[[100 110]\n",
      " [120 130]\n",
      " [140 150]\n",
      " [160 170]\n",
      " [180 190]]\n"
     ]
    }
   ],
   "source": [
    "# 1. Create a 5X2 integer array from a range between 100 to 200 such that the difference between each element is 10\n",
    "\n",
    "arr = np.arange(100,200,10).reshape(5,2)\n",
    "print(arr)"
   ]
  },
  {
   "cell_type": "code",
   "execution_count": 17,
   "metadata": {},
   "outputs": [
    {
     "name": "stdout",
     "output_type": "stream",
     "text": [
      "[[[18  8  4]\n",
      "  [ 9 11  2]\n",
      "  [ 5 15 10]]\n",
      "\n",
      " [[10  6 10]\n",
      "  [ 9 13  7]\n",
      "  [ 4  7 18]]\n",
      "\n",
      " [[12 13 16]\n",
      "  [11  8  9]\n",
      "  [10 13 18]]]\n",
      "Min: 2\n",
      "Max: 18\n"
     ]
    }
   ],
   "source": [
    "# 2. Write a NumPy program to create a 3x3x3 array filled with arbitrary values and find the minimum and maximum values.\n",
    "\n",
    "arr1 = np.random.randint(2, 20, (3, 3, 3))\n",
    "print(arr1)\n",
    "print(\"Min:\", arr1.min())\n",
    "print(\"Max:\", arr1.max())"
   ]
  },
  {
   "cell_type": "code",
   "execution_count": 20,
   "metadata": {},
   "outputs": [
    {
     "name": "stdout",
     "output_type": "stream",
     "text": [
      "[[1 0 0 0 0]\n",
      " [0 2 0 0 0]\n",
      " [0 0 3 0 0]\n",
      " [0 0 0 4 0]\n",
      " [0 0 0 0 5]]\n"
     ]
    }
   ],
   "source": [
    "# 3. Write a NumPy program to create a 5x5 zero matrix with elements on the main diagonal equal to 1, 2, 3, 4, 5.\n",
    "\n",
    "arr2 = np.diag([1,2,3,4,5])\n",
    "print(arr2)"
   ]
  },
  {
   "cell_type": "code",
   "execution_count": 26,
   "metadata": {},
   "outputs": [
    {
     "name": "stdout",
     "output_type": "stream",
     "text": [
      "[0 1 2 3 4 5 6 7 8 9]\n",
      "[ 0 -1  2 -1  4 -1  6 -1  8 -1]\n"
     ]
    }
   ],
   "source": [
    "# 4. Given an array arr = np.array([0, 1, 2, 3, 4, 5, 6, 7, 8, 9 i) Extract all odd numbers from arr ii) Replace all odd numbers in arr with -1.\n",
    "\n",
    "arr3 = np.array([0, 1, 2, 3, 4, 5, 6, 7, 8, 9])\n",
    "print(arr3)\n",
    "modified = np.where(arr3 % 2 == 1, -1, arr3)\n",
    "print(modified)"
   ]
  },
  {
   "cell_type": "code",
   "execution_count": 28,
   "metadata": {},
   "outputs": [
    {
     "name": "stdout",
     "output_type": "stream",
     "text": [
      "[[1. 0. 0.]\n",
      " [0. 1. 0.]\n",
      " [0. 0. 1.]]\n"
     ]
    }
   ],
   "source": [
    "# 5.Write a NumPy program to create a 3x3 identity matrix, i.e. diagonal elements are 1,the rest are 0.\n",
    "\n",
    "arr4 = np.eye(3,3)\n",
    "print(arr4)"
   ]
  },
  {
   "cell_type": "code",
   "execution_count": 32,
   "metadata": {},
   "outputs": [
    {
     "name": "stdout",
     "output_type": "stream",
     "text": [
      "[1 5 8 9 0 3 6]\n",
      "[1. 5. 8. 9. 0. 3. 6.]\n",
      "[1. 5. 8. 9. 0. 3. 6.]\n"
     ]
    }
   ],
   "source": [
    "# 6. Write a NumPy program to convert an array to a float type.\n",
    "\n",
    "arr5 = np.array([1,5,8,9,0,3,6])\n",
    "print(arr5)\n",
    "conv = arr5.astype(float)\n",
    "print(conv)\n",
    "a = np.asfarray(arr5)\n",
    "print(a)"
   ]
  },
  {
   "cell_type": "code",
   "execution_count": 35,
   "metadata": {},
   "outputs": [
    {
     "name": "stdout",
     "output_type": "stream",
     "text": [
      "[ 0.04485434 -0.20276354 -1.90366849  0.42592204 -0.49358124]\n"
     ]
    }
   ],
   "source": [
    "# 7. Write a NumPy program to generate five random numbers from the normal distribution.\n",
    "\n",
    "arr6 = np.random.normal(size = 5)\n",
    "print(arr6)"
   ]
  },
  {
   "cell_type": "code",
   "execution_count": 48,
   "metadata": {},
   "outputs": [
    {
     "name": "stdout",
     "output_type": "stream",
     "text": [
      " Original: [[34 43 73]\n",
      " [82 22 12]\n",
      " [53 94 66]]\n",
      "\n",
      " Deleted: [[34 43]\n",
      " [82 22]\n",
      " [53 94]]\n",
      "\n",
      " Inserted: [[34 43 10]\n",
      " [82 22 10]\n",
      " [53 94 10]]\n"
     ]
    }
   ],
   "source": [
    "# 8. Following is the input NumPy array delete column two and insert following new column in its place.\n",
    "# sampleArray=numpy.array([[34,43,73],[82,22,12],[53,94,66]]) newColumn = numpy.array([[10,10,10]])\n",
    "\n",
    "arr7 = np.array([[34,43,73],[82,22,12],[53,94,66]]) \n",
    "print(\" Original:\",arr7)\n",
    "del_arr = np.delete(arr7, 2, axis=1)\n",
    "print(\"\\n Deleted:\", del_arr)\n",
    "ins_arr = np.insert(del_arr, [2], [[10],[10],[10]], axis = 1)\n",
    "print(\"\\n Inserted:\", ins_arr)"
   ]
  },
  {
   "cell_type": "code",
   "execution_count": 53,
   "metadata": {},
   "outputs": [
    {
     "name": "stdout",
     "output_type": "stream",
     "text": [
      " Original: \n",
      " [[3 4 7]\n",
      " [8 2 1]\n",
      " [5 9 6]] \n",
      " \n",
      " [[5 9 6]\n",
      " [8 2 1]\n",
      " [3 4 7]]\n",
      "\n",
      " Multiplied: \n",
      " [[15 36 42]\n",
      " [64  4  1]\n",
      " [15 36 42]]\n"
     ]
    }
   ],
   "source": [
    "# 9. Write a NumPy program to compute the multiplicationof two given matrices.\n",
    "\n",
    "arr_m1 = np.array([[3,4,7],[8,2,1],[5,9,6]]) \n",
    "arr_m2 = np.array([[5,9,6],[8,2,1],[3,4,7]]) \n",
    "print(\" Original: \\n\", arr_m1, \"\\n \\n\", arr_m2), \n",
    "ar_mul = np.multiply(arr_m1,arr_m2)\n",
    "print(\"\\n Multiplied: \\n\", ar_mul)"
   ]
  },
  {
   "cell_type": "code",
   "execution_count": 77,
   "metadata": {},
   "outputs": [
    {
     "name": "stdout",
     "output_type": "stream",
     "text": [
      " Original: \n",
      " [0.92859181 0.73247215 0.37194365 0.72991393 0.58258988 0.24710347\n",
      " 0.93917366 0.23591221 0.84642944 0.34571666] \n",
      "\n",
      " Sorted: \n",
      " [0.23591221 0.24710347 0.34571666 0.37194365 0.58258988 0.72991393\n",
      " 0.73247215 0.84642944 0.92859181 0.93917366]\n"
     ]
    }
   ],
   "source": [
    "# 10. Write a NumPy program to create a random vector of size 10 and sort it.\n",
    "\n",
    "vect = np.random.random(10)\n",
    "print(\" Original: \\n\", vect, \"\\n\")\n",
    "vect.sort()\n",
    "print(\" Sorted: \\n\", vect)"
   ]
  },
  {
   "cell_type": "code",
   "execution_count": 79,
   "metadata": {
    "scrolled": true
   },
   "outputs": [
    {
     "name": "stdout",
     "output_type": "stream",
     "text": [
      " Original: \n",
      " [2 5 1 7] \n",
      " [3 4 2 1]\n",
      "\n",
      "Covariance matrix:\n",
      " [[ 7.58333333 -0.83333333]\n",
      " [-0.83333333  1.66666667]]\n"
     ]
    }
   ],
   "source": [
    "# 11. Write a NumPy program to compute the covariance matrix of two arrays.\n",
    "\n",
    "arr9 = np.array([2, 5, 1, 7])\n",
    "arr8 = np.array([3, 4, 2, 1])\n",
    "  \n",
    "print(\" Original: \\n\", arr9, \"\\n\", arr8)\n",
    "\n",
    "# Covariance matrix\n",
    "print(\"\\nCovariance matrix:\\n\", np.cov(arr9, arr8))\n"
   ]
  },
  {
   "cell_type": "code",
   "execution_count": 91,
   "metadata": {},
   "outputs": [
    {
     "name": "stdout",
     "output_type": "stream",
     "text": [
      "[[1 2]\n",
      " [3 4]\n",
      " [5 6]\n",
      " [7 8]]\n",
      "Shape:  (4, 2)\n",
      "Dimension:  2\n",
      "Length in Bytes:  4\n",
      "Total Bytes:  32\n"
     ]
    }
   ],
   "source": [
    "# 12.Create a 4X2 integer array and Prints its: i)The shape of an array. ii) Array dimensions. iii) The Length of each element of the array in bytes\n",
    "\n",
    "arr10 = np.arange(1,9).reshape(4,2)\n",
    "print(arr10)\n",
    "print(\"Shape: \", arr10.shape)\n",
    "print(\"Dimension: \", arr10.ndim)\n",
    "print(\"Length in Bytes: \", arr10.itemsize)\n",
    "print(\"Total Bytes: \", arr10.nbytes)"
   ]
  },
  {
   "cell_type": "code",
   "execution_count": 98,
   "metadata": {},
   "outputs": [
    {
     "name": "stdout",
     "output_type": "stream",
     "text": [
      "Original Array:  ['Data' 'folks' 'Institution']\n",
      "\n",
      "Capitalized:  ['Data' 'Folks' 'Institution']\n",
      "Lowered:  ['data' 'folks' 'institution']\n",
      "Uppered:  ['DATA' 'FOLKS' 'INSTITUTION']\n",
      "Swapcased:  ['dATA' 'FOLKS' 'iNSTITUTION']\n",
      "Titlecased:  ['Data' 'Folks' 'Institution']\n"
     ]
    }
   ],
   "source": [
    "# 14. Write a NumPy program to capitalize the first letter, lowercase, uppercase, swapcase, title-case of all the elements of a given array.\n",
    "\n",
    "arr11 = np.array(['Data', 'folks', 'Institution'], dtype=np.str)\n",
    "print(\"Original Array: \", arr11)\n",
    "capitalized = np.char.capitalize(arr11)\n",
    "lowered = np.char.lower(arr11)\n",
    "uppered = np.char.upper(arr11)\n",
    "swapcased = np.char.swapcase(arr11)\n",
    "titlecased = np.char.title(arr11)\n",
    "print(\"\\nCapitalized: \", capitalized)\n",
    "print(\"Lowered: \", lowered)\n",
    "print(\"Uppered: \", uppered)\n",
    "print(\"Swapcased: \", swapcased)\n",
    "print(\"Titlecased: \", titlecased)"
   ]
  },
  {
   "cell_type": "code",
   "execution_count": 97,
   "metadata": {},
   "outputs": [
    {
     "name": "stdout",
     "output_type": "stream",
     "text": [
      "Original Array: \n",
      " [[0 1 2]\n",
      " [3 4 5]\n",
      " [6 7 8]] \n",
      "\n",
      "Converted List: \n",
      " [[0, 1, 2], [3, 4, 5], [6, 7, 8]]\n"
     ]
    }
   ],
   "source": [
    "# 15. Write a NumPy program to convert a given array into a list.\n",
    "\n",
    "arr12= np.arange(9).reshape(3, 3)\n",
    "print(\"Original Array: \\n\", arr12, \"\\n\")\n",
    "print(\"Converted List: \\n\", arr12.tolist())"
   ]
  },
  {
   "cell_type": "code",
   "execution_count": 104,
   "metadata": {},
   "outputs": [
    {
     "name": "stdout",
     "output_type": "stream",
     "text": [
      "Original: \n",
      " [[4 0 1]\n",
      " [2 7 8]]\n",
      "Sum of all elements:\n",
      "22\n",
      "Sum of each column:\n",
      "[6 7 9]\n",
      "Sum of each row:\n",
      "[ 5 17]\n"
     ]
    }
   ],
   "source": [
    "# 16. Write a NumPy program to compute the sum of all elements, sum of each column and sum of each row of a given array.\n",
    "\n",
    "arr13 = np.array([[4,0,1],[2,7,8]])\n",
    "print(\"Original: \\n\",arr13)\n",
    "print(\"Sum of all elements:\")\n",
    "print(np.sum(arr13))\n",
    "print(\"Sum of each column:\")\n",
    "print(np.sum(arr13, axis=0))\n",
    "print(\"Sum of each row:\")\n",
    "print(np.sum(arr13, axis=1))"
   ]
  },
  {
   "cell_type": "code",
   "execution_count": 105,
   "metadata": {},
   "outputs": [
    {
     "name": "stdout",
     "output_type": "stream",
     "text": [
      "Original array: \n",
      "[[0.20437072 0.95239205 0.72458165 0.49035805]\n",
      " [0.72407427 0.26595391 0.7220097  0.05424474]\n",
      " [0.68611372 0.64846109 0.73583258 0.42374227]\n",
      " [0.50722217 0.06012705 0.75108592 0.15717428]\n",
      " [0.09590191 0.81835719 0.28198852 0.9484446 ]\n",
      " [0.9998656  0.42579109 0.7770542  0.5380094 ]\n",
      " [0.7592773  0.75119787 0.01479293 0.6793843 ]\n",
      " [0.38724801 0.62816798 0.91241836 0.77548538]\n",
      " [0.3936262  0.97446965 0.90777865 0.85408534]\n",
      " [0.22964231 0.4507451  0.35120318 0.33554091]]\n",
      " \n",
      " First 5 rows of the above array:\n",
      "[[0.20437072 0.95239205 0.72458165 0.49035805]\n",
      " [0.72407427 0.26595391 0.7220097  0.05424474]\n",
      " [0.68611372 0.64846109 0.73583258 0.42374227]\n",
      " [0.50722217 0.06012705 0.75108592 0.15717428]\n",
      " [0.09590191 0.81835719 0.28198852 0.9484446 ]]\n"
     ]
    }
   ],
   "source": [
    "# 17. Write a NumPy program to create a random 10x4 array and extract the first five rows of the array and store them into a variable\n",
    "\n",
    "arr14 = np.random.rand(10, 4)\n",
    "print(\"Original array: \")\n",
    "print(arr14)\n",
    "y= arr14[:5, :]\n",
    "print(\" \\n First 5 rows of the above array:\")\n",
    "print(y)"
   ]
  },
  {
   "cell_type": "code",
   "execution_count": 107,
   "metadata": {},
   "outputs": [
    {
     "name": "stdout",
     "output_type": "stream",
     "text": [
      "1D array: \n",
      " [10 10 20 20 30 30 40]\n",
      "Unique elements of 1D array: \n",
      " [10 20 30 40] \n",
      "\n",
      "2D array: \n",
      " [[1 1 7]\n",
      " [2 2 3]]\n",
      "Unique elements of 2D array: \n",
      " [1 2 3 7]\n"
     ]
    }
   ],
   "source": [
    "# 18. Write a NumPy program to get the unique elements of a 1D and 2D array.\n",
    "\n",
    "arr14 = np.array([10, 10, 20, 20, 30, 30, 40])\n",
    "print(\"1D array: \\n\", arr14)\n",
    "print(\"Unique elements of 1D array: \\n\", np.unique(arr14), \"\\n\")\n",
    "arr15 = np.array([[1, 1, 7], [2, 2, 3]])\n",
    "print(\"2D array: \\n\", arr15)\n",
    "print(\"Unique elements of 2D array: \\n\", np.unique(arr15))"
   ]
  },
  {
   "cell_type": "code",
   "execution_count": 110,
   "metadata": {},
   "outputs": [
    {
     "data": {
      "text/plain": [
       "array([-10.  ,  -0.2 ,  12.12])"
      ]
     },
     "execution_count": 110,
     "metadata": {},
     "output_type": "execute_result"
    }
   ],
   "source": [
    "# 19. Write a NumPy program to get the unique elements of an array. arr= [ -10 12.12 -0.2]\n",
    "\n",
    "arr16 = np.array([-10, 12.12, -0.2])\n",
    "np.unique(arr16)"
   ]
  },
  {
   "cell_type": "code",
   "execution_count": 115,
   "metadata": {},
   "outputs": [
    {
     "name": "stdout",
     "output_type": "stream",
     "text": [
      "Original array: \n",
      " [[0 1 2 3 4]\n",
      " [5 6 7 8 9]]\n",
      "After loading, content of the text file:\n",
      "[[0. 1. 2. 3. 4.]\n",
      " [5. 6. 7. 8. 9.]]\n"
     ]
    }
   ],
   "source": [
    "# 20. Write a NumPy program to save a given array to a text file and load it. You have to save and load files using numpy library.\n",
    "\n",
    "arr17 = np.arange(10).reshape(2, 5)\n",
    "print(\"Original array: \\n\" ,arr17)\n",
    "np.savetxt('temp.txt', arr17 , fmt=\"%d\") \n",
    "print(\"After loading, content of the text file:\")\n",
    "textfile = np.loadtxt('temp.txt')\n",
    "print(textfile)"
   ]
  },
  {
   "cell_type": "code",
   "execution_count": null,
   "metadata": {},
   "outputs": [],
   "source": []
  }
 ],
 "metadata": {
  "kernelspec": {
   "display_name": "Python 3",
   "language": "python",
   "name": "python3"
  },
  "language_info": {
   "codemirror_mode": {
    "name": "ipython",
    "version": 3
   },
   "file_extension": ".py",
   "mimetype": "text/x-python",
   "name": "python",
   "nbconvert_exporter": "python",
   "pygments_lexer": "ipython3",
   "version": "3.8.5"
  }
 },
 "nbformat": 4,
 "nbformat_minor": 4
}
