{
 "cells": [
  {
   "cell_type": "markdown",
   "metadata": {},
   "source": [
    "# Python Assignment - 4\n",
    "# Tuples and Sets"
   ]
  },
  {
   "cell_type": "code",
   "execution_count": 19,
   "metadata": {},
   "outputs": [
    {
     "name": "stdout",
     "output_type": "stream",
     "text": [
      "<class 'tuple'>\n"
     ]
    }
   ],
   "source": [
    "# 1. Write a Python program to add an item in a tuple.\n",
    "\n",
    "basket = ('fruits','veggies','icecreams')\n",
    "print(type(basket))"
   ]
  },
  {
   "cell_type": "code",
   "execution_count": 9,
   "metadata": {},
   "outputs": [
    {
     "name": "stdout",
     "output_type": "stream",
     "text": [
      "('icecreams', 'veggies', 'fruits')\n"
     ]
    }
   ],
   "source": [
    "# 2. Write a Python program to reverse a tuple.\n",
    "\n",
    "reversed_tuple = tuple(reversed(basket))\n",
    "print(reversed_tuple)"
   ]
  },
  {
   "cell_type": "code",
   "execution_count": 11,
   "metadata": {},
   "outputs": [
    {
     "name": "stdout",
     "output_type": "stream",
     "text": [
      "(99, 88)\n",
      "(11, 22)\n"
     ]
    }
   ],
   "source": [
    "# 3. Swap the following two tuples\n",
    "\n",
    "tuple1 = (11, 22)\n",
    "tuple2 = (99, 88)\n",
    "\n",
    "tuple1, tuple2 = tuple2, tuple1\n",
    "\n",
    "print(tuple1)\n",
    "print(tuple2)"
   ]
  },
  {
   "cell_type": "code",
   "execution_count": 20,
   "metadata": {},
   "outputs": [
    {
     "name": "stdout",
     "output_type": "stream",
     "text": [
      "(11, [222, 33], 44, 55)\n"
     ]
    }
   ],
   "source": [
    "# 4. Modify the first item (22) of a list inside a following tuple to 222, tuple1 = (11, [22, 33], 44, 55)\n",
    "\n",
    "tuple1 = (11, [22, 33], 44, 55)\n",
    "tuple1[1][0]=222\n",
    "print(tuple1)"
   ]
  },
  {
   "cell_type": "code",
   "execution_count": 18,
   "metadata": {},
   "outputs": [
    {
     "name": "stdout",
     "output_type": "stream",
     "text": [
      "11\n",
      "[22, 33]\n",
      "44\n",
      "55\n"
     ]
    }
   ],
   "source": [
    "# 5. Write a Python program to unpack a tuple in several variables\n",
    "\n",
    "tuple1 = (11, [22, 33], 44, 55)\n",
    "a, b, c, d = tuple1\n",
    "print(a,b,c,d, sep='\\n')"
   ]
  },
  {
   "cell_type": "code",
   "execution_count": 24,
   "metadata": {},
   "outputs": [
    {
     "name": "stdout",
     "output_type": "stream",
     "text": [
      "{'pineapple', 'apple', 'orange'}\n"
     ]
    }
   ],
   "source": [
    "# 6. Write a Python program to add member(s) in an empty set.\n",
    "\n",
    "set1=set()\n",
    "set1.add(\"apple\")\n",
    "set1.update([\"pineapple\",\"orange\"])\n",
    "print(set1)"
   ]
  },
  {
   "cell_type": "code",
   "execution_count": 21,
   "metadata": {},
   "outputs": [
    {
     "data": {
      "text/plain": [
       "{3, 4, 5}"
      ]
     },
     "execution_count": 21,
     "metadata": {},
     "output_type": "execute_result"
    }
   ],
   "source": [
    "# 7. Write a Python program to create an intersection of sets\n",
    "\n",
    "set1={1,2,3,4,5}\n",
    "set2={3,4,5,6,7}\n",
    "set1.intersection(set2)"
   ]
  },
  {
   "cell_type": "code",
   "execution_count": 22,
   "metadata": {},
   "outputs": [
    {
     "data": {
      "text/plain": [
       "{1, 2, 6, 7}"
      ]
     },
     "execution_count": 22,
     "metadata": {},
     "output_type": "execute_result"
    }
   ],
   "source": [
    "# 8. Write a Python program to create a symmetric difference in sets.\n",
    "\n",
    "set1.symmetric_difference(set2)"
   ]
  },
  {
   "cell_type": "code",
   "execution_count": 24,
   "metadata": {},
   "outputs": [
    {
     "data": {
      "text/plain": [
       "{30, 40, 50}"
      ]
     },
     "execution_count": 24,
     "metadata": {},
     "output_type": "execute_result"
    }
   ],
   "source": [
    "# 9. Return a set of identical items from a given two Python set\n",
    "\n",
    "set1 = {10, 20, 30, 40, 50}\n",
    "set2 = {30, 40, 50, 60, 70}\n",
    "\n",
    "set1.intersection(set2)"
   ]
  },
  {
   "cell_type": "code",
   "execution_count": 3,
   "metadata": {},
   "outputs": [
    {
     "name": "stdout",
     "output_type": "stream",
     "text": [
      "{40, 50}\n"
     ]
    }
   ],
   "source": [
    "# 10. Remove 10, 20, 30 elements from a following set at once\n",
    "\n",
    "set1 = {10, 20, 30, 40, 50}\n",
    "delete_set = {10,20,30}\n",
    "set1.difference_update(delete_set)\n",
    "print(set1)"
   ]
  },
  {
   "cell_type": "code",
   "execution_count": 6,
   "metadata": {},
   "outputs": [
    {
     "name": "stdout",
     "output_type": "stream",
     "text": [
      "20\n"
     ]
    }
   ],
   "source": [
    "# 11. Access value 20 from the following tuple example = (\"Pooja\", [10, 20, 30], (25, 50, 15))\n",
    "\n",
    "tuple1 = (\"Pooja\", [10, 20, 30], (25, 50, 15))\n",
    "print(tuple1[1][1])"
   ]
  },
  {
   "cell_type": "code",
   "execution_count": 25,
   "metadata": {},
   "outputs": [
    {
     "name": "stdout",
     "output_type": "stream",
     "text": [
      "2\n"
     ]
    }
   ],
   "source": [
    "# 12. Count the number of occurrences of item 50 from a tuple numbers = (50, 10, 60, 70, 50)\n",
    "\n",
    "tuple1 = (50, 10, 60, 70, 50)\n",
    "print(tuple1.count(50))"
   ]
  }
 ],
 "metadata": {
  "kernelspec": {
   "display_name": "Python 3",
   "language": "python",
   "name": "python3"
  },
  "language_info": {
   "codemirror_mode": {
    "name": "ipython",
    "version": 3
   },
   "file_extension": ".py",
   "mimetype": "text/x-python",
   "name": "python",
   "nbconvert_exporter": "python",
   "pygments_lexer": "ipython3",
   "version": "3.8.5"
  }
 },
 "nbformat": 4,
 "nbformat_minor": 4
}
