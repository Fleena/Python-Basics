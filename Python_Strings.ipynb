{
 "cells": [
  {
   "cell_type": "markdown",
   "metadata": {},
   "source": [
    "   ## Python Assignment-2\n",
    "   ## Strings\n"
   ]
  },
  {
   "cell_type": "code",
   "execution_count": 3,
   "metadata": {},
   "outputs": [
    {
     "name": "stdout",
     "output_type": "stream",
     "text": [
      "<class 'int'>\n",
      "<class 'str'>\n",
      "<class 'float'>\n",
      "<class 'complex'>\n",
      "<class 'bool'>\n"
     ]
    }
   ],
   "source": [
    "# 1. Define different types of variables (integer, boolean, string, float, complex) and print their values and their types\n",
    "\n",
    "x = 23\n",
    "y = 'Hello'\n",
    "z = 34.8\n",
    "a = 2+3j\n",
    "b = True\n",
    "print(type(x), type(y), type(z), type(a), type(b), sep='\\n')"
   ]
  },
  {
   "cell_type": "code",
   "execution_count": 8,
   "metadata": {},
   "outputs": [
    {
     "name": "stdout",
     "output_type": "stream",
     "text": [
      "<class 'str'>\n",
      "<class 'int'>\n"
     ]
    }
   ],
   "source": [
    "# 2. In the above question convert float variable into integer type and integer variable into str type.\n",
    "\n",
    "x = str(x)\n",
    "z = int(z)\n",
    "print(type(x), type(z), sep='\\n')"
   ]
  },
  {
   "cell_type": "code",
   "execution_count": 13,
   "metadata": {},
   "outputs": [
    {
     "data": {
      "text/plain": [
       "True"
      ]
     },
     "execution_count": 13,
     "metadata": {},
     "output_type": "execute_result"
    }
   ],
   "source": [
    "# 3. What will you get converting “abc” into boolean ?\n",
    "\n",
    "x = 'abc'\n",
    "x = bool(x)\n",
    "type(x)\n",
    "bool('abc')"
   ]
  },
  {
   "cell_type": "code",
   "execution_count": 14,
   "metadata": {},
   "outputs": [
    {
     "name": "stdout",
     "output_type": "stream",
     "text": [
      "llo\n"
     ]
    }
   ],
   "source": [
    "# 4. Print the substring from index 2 to index 4 for any given string. For example (llo) from “Hello World”\n",
    "\n",
    "x = \"Hello World\"\n",
    "y = x[2:5]\n",
    "print(y)"
   ]
  },
  {
   "cell_type": "code",
   "execution_count": 15,
   "metadata": {},
   "outputs": [
    {
     "name": "stdout",
     "output_type": "stream",
     "text": [
      "True\n"
     ]
    }
   ],
   "source": [
    "# 5. Write a program to check a substring in a given string. For example 'e' is present in the word 'Umbrella'\n",
    "\n",
    "x = 'Umbrella'\n",
    "print('e' in x)"
   ]
  },
  {
   "cell_type": "code",
   "execution_count": 35,
   "metadata": {},
   "outputs": [
    {
     "name": "stdout",
     "output_type": "stream",
     "text": [
      "True\n",
      "False\n"
     ]
    }
   ],
   "source": [
    "# 6. Use the correct comparison operator to check if 5 is not equal to 10.\n",
    "\n",
    "x = 5\n",
    "y = 10\n",
    "print(x!=y)\n",
    "print(x==y)"
   ]
  },
  {
   "cell_type": "code",
   "execution_count": 18,
   "metadata": {},
   "outputs": [
    {
     "name": "stdout",
     "output_type": "stream",
     "text": [
      "Enter the String:hijktunjnjnjm\n"
     ]
    },
    {
     "data": {
      "text/plain": [
       "['h', 'i', 'j', 'j', 'j', 'j', 'k', 'm', 'n', 'n', 'n', 't', 'u']"
      ]
     },
     "execution_count": 18,
     "metadata": {},
     "output_type": "execute_result"
    }
   ],
   "source": [
    "# 7. Write a program to get a string from the user and sort the words of the string in alphabetical order.\n",
    "\n",
    "x = input('Enter the String:', )\n",
    "sorted(x)"
   ]
  },
  {
   "cell_type": "code",
   "execution_count": 19,
   "metadata": {},
   "outputs": [
    {
     "name": "stdout",
     "output_type": "stream",
     "text": [
      "Enter the Stringthis is a sorted string\n"
     ]
    },
    {
     "data": {
      "text/plain": [
       "[' ',\n",
       " ' ',\n",
       " ' ',\n",
       " ' ',\n",
       " 'a',\n",
       " 'd',\n",
       " 'e',\n",
       " 'g',\n",
       " 'h',\n",
       " 'i',\n",
       " 'i',\n",
       " 'i',\n",
       " 'n',\n",
       " 'o',\n",
       " 'r',\n",
       " 'r',\n",
       " 's',\n",
       " 's',\n",
       " 's',\n",
       " 's',\n",
       " 't',\n",
       " 't',\n",
       " 't']"
      ]
     },
     "execution_count": 19,
     "metadata": {},
     "output_type": "execute_result"
    }
   ],
   "source": [
    "# 7. Write a program to get a string from the user and sort the words of the string in alphabetical order.\n",
    "\n",
    "y = input('Enter the String', )\n",
    "sorted(y)"
   ]
  },
  {
   "cell_type": "code",
   "execution_count": 34,
   "metadata": {},
   "outputs": [
    {
     "data": {
      "text/plain": [
       "'Welcome to INDIA. india is awesome.'"
      ]
     },
     "execution_count": 34,
     "metadata": {},
     "output_type": "execute_result"
    }
   ],
   "source": [
    "# 8. Join two words using special characters like ‘ – ‘ ,’#’\n",
    "\n",
    "input_str = ['Welcome', 'to', 'INDIA.', 'india', 'is', 'awesome.']\n",
    "' '.join(input_str)"
   ]
  },
  {
   "cell_type": "code",
   "execution_count": 31,
   "metadata": {},
   "outputs": [
    {
     "name": "stdout",
     "output_type": "stream",
     "text": [
      "2\n"
     ]
    }
   ],
   "source": [
    "# 9. Find all occurrences of “INDIA” in a given string ignoring the case. input_str = \"Welcome to INDIA. india is awesome.\n",
    "\n",
    "input_str = \"Welcome to INDIA. india is awesome.\" \n",
    "sub_string = 'INDIA'\n",
    "temp_string = input_str.lower()\n",
    "count = temp_string.count(sub_string.lower())\n",
    "print(count)"
   ]
  },
  {
   "cell_type": "code",
   "execution_count": 37,
   "metadata": {},
   "outputs": [
    {
     "data": {
      "text/plain": [
       "'Henno Wornd'"
      ]
     },
     "execution_count": 37,
     "metadata": {},
     "output_type": "execute_result"
    }
   ],
   "source": [
    "# 10. Replace first two ‘l’ with ‘n’ in ‘Hello World’\n",
    "\n",
    "input_str = 'Hello World'\n",
    "input_str.replace('l','n')"
   ]
  },
  {
   "cell_type": "code",
   "execution_count": 39,
   "metadata": {},
   "outputs": [
    {
     "name": "stdout",
     "output_type": "stream",
     "text": [
      "R.B.Roser\n"
     ]
    }
   ],
   "source": [
    "# 11. Write a program that takes your full name as input and displays the abbreviations of the first and middle names except the last name which is displayed as it is. For\n",
    "# example, if your name is Robert Brett Roser, then the output should be R.B.Roser.\n",
    "\n",
    "def name(s): \n",
    "  \n",
    "    l = s.split() \n",
    "    new = \"\" \n",
    "  \n",
    "    for i in range(len(l)-1): \n",
    "        s = l[i] \n",
    "            \n",
    "        new += (s[0].upper()+'.') \n",
    "        \n",
    "    new += l[-1].title() \n",
    "      \n",
    "    return new  \n",
    "                  \n",
    "s =\"Robert Brett Roser\" \n",
    "print(name(s))         "
   ]
  },
  {
   "cell_type": "code",
   "execution_count": 44,
   "metadata": {},
   "outputs": [
    {
     "name": "stdout",
     "output_type": "stream",
     "text": [
      "Enter the String: ghfgfdfds\n",
      "The string is not a palindrome.\n"
     ]
    }
   ],
   "source": [
    "# 12. Write a program to check if a given string is a Palindrome.A palindrome reads the same from front and back e.g.-aba, ccaacc, mom, etc.\n",
    "\n",
    "my_str = input(\"Enter the String: \",)\n",
    "\n",
    "my_str = my_str.casefold()\n",
    "\n",
    "rev_str = reversed(my_str)\n",
    "\n",
    "if list(my_str) == list(rev_str):\n",
    "   print(\"The string is a palindrome.\")\n",
    "else:\n",
    "   print(\"The string is not a palindrome.\")"
   ]
  }
 ],
 "metadata": {
  "kernelspec": {
   "display_name": "Python 3",
   "language": "python",
   "name": "python3"
  },
  "language_info": {
   "codemirror_mode": {
    "name": "ipython",
    "version": 3
   },
   "file_extension": ".py",
   "mimetype": "text/x-python",
   "name": "python",
   "nbconvert_exporter": "python",
   "pygments_lexer": "ipython3",
   "version": "3.8.5"
  }
 },
 "nbformat": 4,
 "nbformat_minor": 4
}
